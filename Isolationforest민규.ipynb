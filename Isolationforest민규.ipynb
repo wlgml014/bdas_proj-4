{
  "cells": [
    {
      "cell_type": "markdown",
      "metadata": {
        "id": "view-in-github",
        "colab_type": "text"
      },
      "source": [
        "<a href=\"https://colab.research.google.com/github/wlgml014/bdas_proj-4/blob/main/Isolationforest%EB%AF%BC%EA%B7%9C.ipynb\" target=\"_parent\"><img src=\"https://colab.research.google.com/assets/colab-badge.svg\" alt=\"Open In Colab\"/></a>"
      ]
    },
    {
      "cell_type": "code",
      "execution_count": null,
      "metadata": {
        "colab": {
          "base_uri": "https://localhost:8080/"
        },
        "id": "BQNhuY6CFlFo",
        "outputId": "974bbbc2-d84c-4cf6-d7c9-026626fca893"
      },
      "outputs": [
        {
          "output_type": "stream",
          "name": "stdout",
          "text": [
            "Drive already mounted at /content/drive; to attempt to forcibly remount, call drive.mount(\"/content/drive\", force_remount=True).\n"
          ]
        }
      ],
      "source": [
        "from google.colab import drive\n",
        "drive.mount('/content/drive')"
      ]
    },
    {
      "cell_type": "code",
      "execution_count": null,
      "metadata": {
        "id": "9NeyY8leGCtt"
      },
      "outputs": [],
      "source": [
        "# importing pandas\n",
        "import numpy as np\n",
        "import pandas as pd\n",
        "from pandas.core.internals.blocks import F"
      ]
    },
    {
      "cell_type": "code",
      "execution_count": null,
      "metadata": {
        "id": "OYXE-WVLGKwo"
      },
      "outputs": [],
      "source": [
        "import numpy as np\n",
        "import pandas as pd\n",
        "from datetime import datetime\n",
        "\n",
        "from sklearn.model_selection import train_test_split\n",
        "from sklearn.preprocessing import StandardScaler\n",
        "from sklearn.svm import SVC\n",
        "from sklearn.metrics import confusion_matrix\n",
        "#from sklearn.metrics import plot_confusion_matrix\n",
        "from sklearn import tree\n",
        "from sklearn.metrics import classification_report\n",
        "from sklearn.metrics import accuracy_score\n",
        "from sklearn import neighbors, datasets\n",
        "#from sklearn.inspection import DecisionBoundaryDisplay\n",
        "\n",
        "import sklearn.metrics\n",
        "from sklearn import metrics\n",
        "from sklearn.metrics import f1_score\n",
        "from sklearn.metrics import mean_squared_error\n",
        "\n",
        "import matplotlib.pyplot as plt\n",
        "\n",
        "from sklearn import preprocessing\n",
        "label_encoder = preprocessing.LabelEncoder()"
      ]
    },
    {
      "cell_type": "code",
      "execution_count": null,
      "metadata": {
        "id": "OEG95NCHGPzS"
      },
      "outputs": [],
      "source": [
        "col = [4, 5, 6,7,10,11,12,15]\n",
        "Fuzzy=pd.read_csv('/content/drive/MyDrive/Colab Notebooks/preprocessing_data/Fuzzy_dataset_pre.csv', usecols = col)\n",
        "#,usecols = col"
      ]
    },
    {
      "cell_type": "code",
      "execution_count": null,
      "metadata": {
        "colab": {
          "base_uri": "https://localhost:8080/"
        },
        "id": "dzfeb1QeH_en",
        "outputId": "590b402e-5a80-4232-e1b8-1f3bfbebf969"
      },
      "outputs": [
        {
          "output_type": "stream",
          "name": "stdout",
          "text": [
            "         Data[0]  Data[1]  Data[2]  Data[3]  Data[6]  Data[7]  Label  \\\n",
            "0            216        0        0      138        0        0      0   \n",
            "1            255      127        0        5        0        0      0   \n",
            "2              0        0        0        0        7       21      0   \n",
            "3              0       33       16      255        0        0      0   \n",
            "4             25      128        0      255        7       96      0   \n",
            "...          ...      ...      ...      ...      ...      ...    ...   \n",
            "3838855      254       89        0        0        0        0      0   \n",
            "3838856       24       33       33       48      109       25      0   \n",
            "3838857       36        0      154       29      189        0      0   \n",
            "3838858      220      183      127       20        0       20      0   \n",
            "3838859      216        0        0      139        0        0      0   \n",
            "\n",
            "         interval_id  \n",
            "0           0.000000  \n",
            "1           0.000000  \n",
            "2           0.000000  \n",
            "3           0.000000  \n",
            "4           0.000000  \n",
            "...              ...  \n",
            "3838855     0.009850  \n",
            "3838856     0.009847  \n",
            "3838857     0.009845  \n",
            "3838858     0.009844  \n",
            "3838859     0.009847  \n",
            "\n",
            "[3838860 rows x 8 columns]\n",
            "<class 'pandas.core.frame.DataFrame'>\n",
            "RangeIndex: 3838860 entries, 0 to 3838859\n",
            "Data columns (total 8 columns):\n",
            " #   Column       Dtype  \n",
            "---  ------       -----  \n",
            " 0   Data[0]      int64  \n",
            " 1   Data[1]      int64  \n",
            " 2   Data[2]      int64  \n",
            " 3   Data[3]      int64  \n",
            " 4   Data[6]      int64  \n",
            " 5   Data[7]      int64  \n",
            " 6   Label        int64  \n",
            " 7   interval_id  float64\n",
            "dtypes: float64(1), int64(7)\n",
            "memory usage: 234.3 MB\n"
          ]
        },
        {
          "output_type": "execute_result",
          "data": {
            "text/plain": [
              "0    3347013\n",
              "2     491847\n",
              "Name: Label, dtype: int64"
            ]
          },
          "metadata": {},
          "execution_count": 5
        }
      ],
      "source": [
        "print(Fuzzy)\n",
        "Fuzzy.info()\n",
        "Fuzzy.head()\n",
        "Fuzzy['Label'].value_counts()"
      ]
    },
    {
      "cell_type": "code",
      "source": [
        "# target 별 분리\n",
        "Fuzzy_0 = Fuzzy[Fuzzy['Label'] == 0]\n",
        "Fuzzy_2 = Fuzzy[Fuzzy['Label'] == 2]\n",
        "\n",
        "X = Fuzzy_0.drop(['Label'], axis=1)\n",
        "Y = Fuzzy_0['Label']\n",
        "\n",
        "from sklearn.model_selection import train_test_split\n",
        "X_train, X_test, Y_train, Y_test = train_test_split(X, Y, test_size=0.2, random_state=1)\n",
        "\n",
        "X_outlier = Fuzzy_2.drop(['Label'], axis=1)\n",
        "Y_outlier = Fuzzy_2['Label']\n",
        "#정상데이터만 빼내고 8:2로 8 학습, 2랑 fuzzy데이터 합쳐서 accuracy 측정\n",
        "#학습용 정상데이터 260만\n",
        "#정상 68만 비정상 50만\n"
      ],
      "metadata": {
        "id": "T9ZQbQJyHqiB"
      },
      "execution_count": null,
      "outputs": []
    },
    {
      "cell_type": "code",
      "source": [
        "X_rtest = pd.concat([X_test, X_outlier])"
      ],
      "metadata": {
        "id": "yPdkR1JeN5GO"
      },
      "execution_count": null,
      "outputs": []
    },
    {
      "cell_type": "code",
      "source": [
        "Y_rtest = pd.concat([Y_test, Y_outlier])"
      ],
      "metadata": {
        "id": "KwWk6wnROwxR"
      },
      "execution_count": null,
      "outputs": []
    },
    {
      "cell_type": "code",
      "source": [
        "Y_rtest"
      ],
      "metadata": {
        "colab": {
          "base_uri": "https://localhost:8080/"
        },
        "id": "0BHtLp4UO6Fu",
        "outputId": "67f0b51d-5209-41e0-b175-e6e84cc7d641"
      },
      "execution_count": null,
      "outputs": [
        {
          "output_type": "execute_result",
          "data": {
            "text/plain": [
              "3054954    0\n",
              "326308     0\n",
              "3063678    0\n",
              "704410     0\n",
              "1729661    0\n",
              "          ..\n",
              "2930194    2\n",
              "2930197    2\n",
              "2930198    2\n",
              "2930200    2\n",
              "2930202    2\n",
              "Name: Label, Length: 1161250, dtype: int64"
            ]
          },
          "metadata": {},
          "execution_count": 9
        }
      ]
    },
    {
      "cell_type": "code",
      "source": [
        "X_rtest"
      ],
      "metadata": {
        "colab": {
          "base_uri": "https://localhost:8080/",
          "height": 423
        },
        "id": "4qk-Zc4Ca6Ir",
        "outputId": "9df054f6-6095-47a1-dc81-ecd06e74ef0f"
      },
      "execution_count": null,
      "outputs": [
        {
          "output_type": "execute_result",
          "data": {
            "text/plain": [
              "         Data[0]  Data[1]  Data[2]  Data[3]  Data[6]  Data[7]  interval_id\n",
              "3054954        8        0        0        0        0        0     0.019824\n",
              "326308         0        0        0        0        0        0     0.049950\n",
              "3063678        0        0        0        0        3      119     0.009020\n",
              "704410       216       86        0      138        0        0     0.010061\n",
              "1729661       24      128        0      255        9       97     0.008935\n",
              "...          ...      ...      ...      ...      ...      ...          ...\n",
              "2930194       86       56       18       97      107      132     1.778814\n",
              "2930197      102      213      193      204      152      220     9.313973\n",
              "2930198      181      172      171      157      155      228     8.706384\n",
              "2930200       75       37      121      195      169      106     1.662301\n",
              "2930202      156       21      197       90      170      123     4.274832\n",
              "\n",
              "[1161250 rows x 7 columns]"
            ],
            "text/html": [
              "\n",
              "  <div id=\"df-64e33795-0b9c-4622-9a66-6d99d0eca35d\">\n",
              "    <div class=\"colab-df-container\">\n",
              "      <div>\n",
              "<style scoped>\n",
              "    .dataframe tbody tr th:only-of-type {\n",
              "        vertical-align: middle;\n",
              "    }\n",
              "\n",
              "    .dataframe tbody tr th {\n",
              "        vertical-align: top;\n",
              "    }\n",
              "\n",
              "    .dataframe thead th {\n",
              "        text-align: right;\n",
              "    }\n",
              "</style>\n",
              "<table border=\"1\" class=\"dataframe\">\n",
              "  <thead>\n",
              "    <tr style=\"text-align: right;\">\n",
              "      <th></th>\n",
              "      <th>Data[0]</th>\n",
              "      <th>Data[1]</th>\n",
              "      <th>Data[2]</th>\n",
              "      <th>Data[3]</th>\n",
              "      <th>Data[6]</th>\n",
              "      <th>Data[7]</th>\n",
              "      <th>interval_id</th>\n",
              "    </tr>\n",
              "  </thead>\n",
              "  <tbody>\n",
              "    <tr>\n",
              "      <th>3054954</th>\n",
              "      <td>8</td>\n",
              "      <td>0</td>\n",
              "      <td>0</td>\n",
              "      <td>0</td>\n",
              "      <td>0</td>\n",
              "      <td>0</td>\n",
              "      <td>0.019824</td>\n",
              "    </tr>\n",
              "    <tr>\n",
              "      <th>326308</th>\n",
              "      <td>0</td>\n",
              "      <td>0</td>\n",
              "      <td>0</td>\n",
              "      <td>0</td>\n",
              "      <td>0</td>\n",
              "      <td>0</td>\n",
              "      <td>0.049950</td>\n",
              "    </tr>\n",
              "    <tr>\n",
              "      <th>3063678</th>\n",
              "      <td>0</td>\n",
              "      <td>0</td>\n",
              "      <td>0</td>\n",
              "      <td>0</td>\n",
              "      <td>3</td>\n",
              "      <td>119</td>\n",
              "      <td>0.009020</td>\n",
              "    </tr>\n",
              "    <tr>\n",
              "      <th>704410</th>\n",
              "      <td>216</td>\n",
              "      <td>86</td>\n",
              "      <td>0</td>\n",
              "      <td>138</td>\n",
              "      <td>0</td>\n",
              "      <td>0</td>\n",
              "      <td>0.010061</td>\n",
              "    </tr>\n",
              "    <tr>\n",
              "      <th>1729661</th>\n",
              "      <td>24</td>\n",
              "      <td>128</td>\n",
              "      <td>0</td>\n",
              "      <td>255</td>\n",
              "      <td>9</td>\n",
              "      <td>97</td>\n",
              "      <td>0.008935</td>\n",
              "    </tr>\n",
              "    <tr>\n",
              "      <th>...</th>\n",
              "      <td>...</td>\n",
              "      <td>...</td>\n",
              "      <td>...</td>\n",
              "      <td>...</td>\n",
              "      <td>...</td>\n",
              "      <td>...</td>\n",
              "      <td>...</td>\n",
              "    </tr>\n",
              "    <tr>\n",
              "      <th>2930194</th>\n",
              "      <td>86</td>\n",
              "      <td>56</td>\n",
              "      <td>18</td>\n",
              "      <td>97</td>\n",
              "      <td>107</td>\n",
              "      <td>132</td>\n",
              "      <td>1.778814</td>\n",
              "    </tr>\n",
              "    <tr>\n",
              "      <th>2930197</th>\n",
              "      <td>102</td>\n",
              "      <td>213</td>\n",
              "      <td>193</td>\n",
              "      <td>204</td>\n",
              "      <td>152</td>\n",
              "      <td>220</td>\n",
              "      <td>9.313973</td>\n",
              "    </tr>\n",
              "    <tr>\n",
              "      <th>2930198</th>\n",
              "      <td>181</td>\n",
              "      <td>172</td>\n",
              "      <td>171</td>\n",
              "      <td>157</td>\n",
              "      <td>155</td>\n",
              "      <td>228</td>\n",
              "      <td>8.706384</td>\n",
              "    </tr>\n",
              "    <tr>\n",
              "      <th>2930200</th>\n",
              "      <td>75</td>\n",
              "      <td>37</td>\n",
              "      <td>121</td>\n",
              "      <td>195</td>\n",
              "      <td>169</td>\n",
              "      <td>106</td>\n",
              "      <td>1.662301</td>\n",
              "    </tr>\n",
              "    <tr>\n",
              "      <th>2930202</th>\n",
              "      <td>156</td>\n",
              "      <td>21</td>\n",
              "      <td>197</td>\n",
              "      <td>90</td>\n",
              "      <td>170</td>\n",
              "      <td>123</td>\n",
              "      <td>4.274832</td>\n",
              "    </tr>\n",
              "  </tbody>\n",
              "</table>\n",
              "<p>1161250 rows × 7 columns</p>\n",
              "</div>\n",
              "      <button class=\"colab-df-convert\" onclick=\"convertToInteractive('df-64e33795-0b9c-4622-9a66-6d99d0eca35d')\"\n",
              "              title=\"Convert this dataframe to an interactive table.\"\n",
              "              style=\"display:none;\">\n",
              "        \n",
              "  <svg xmlns=\"http://www.w3.org/2000/svg\" height=\"24px\"viewBox=\"0 0 24 24\"\n",
              "       width=\"24px\">\n",
              "    <path d=\"M0 0h24v24H0V0z\" fill=\"none\"/>\n",
              "    <path d=\"M18.56 5.44l.94 2.06.94-2.06 2.06-.94-2.06-.94-.94-2.06-.94 2.06-2.06.94zm-11 1L8.5 8.5l.94-2.06 2.06-.94-2.06-.94L8.5 2.5l-.94 2.06-2.06.94zm10 10l.94 2.06.94-2.06 2.06-.94-2.06-.94-.94-2.06-.94 2.06-2.06.94z\"/><path d=\"M17.41 7.96l-1.37-1.37c-.4-.4-.92-.59-1.43-.59-.52 0-1.04.2-1.43.59L10.3 9.45l-7.72 7.72c-.78.78-.78 2.05 0 2.83L4 21.41c.39.39.9.59 1.41.59.51 0 1.02-.2 1.41-.59l7.78-7.78 2.81-2.81c.8-.78.8-2.07 0-2.86zM5.41 20L4 18.59l7.72-7.72 1.47 1.35L5.41 20z\"/>\n",
              "  </svg>\n",
              "      </button>\n",
              "      \n",
              "  <style>\n",
              "    .colab-df-container {\n",
              "      display:flex;\n",
              "      flex-wrap:wrap;\n",
              "      gap: 12px;\n",
              "    }\n",
              "\n",
              "    .colab-df-convert {\n",
              "      background-color: #E8F0FE;\n",
              "      border: none;\n",
              "      border-radius: 50%;\n",
              "      cursor: pointer;\n",
              "      display: none;\n",
              "      fill: #1967D2;\n",
              "      height: 32px;\n",
              "      padding: 0 0 0 0;\n",
              "      width: 32px;\n",
              "    }\n",
              "\n",
              "    .colab-df-convert:hover {\n",
              "      background-color: #E2EBFA;\n",
              "      box-shadow: 0px 1px 2px rgba(60, 64, 67, 0.3), 0px 1px 3px 1px rgba(60, 64, 67, 0.15);\n",
              "      fill: #174EA6;\n",
              "    }\n",
              "\n",
              "    [theme=dark] .colab-df-convert {\n",
              "      background-color: #3B4455;\n",
              "      fill: #D2E3FC;\n",
              "    }\n",
              "\n",
              "    [theme=dark] .colab-df-convert:hover {\n",
              "      background-color: #434B5C;\n",
              "      box-shadow: 0px 1px 3px 1px rgba(0, 0, 0, 0.15);\n",
              "      filter: drop-shadow(0px 1px 2px rgba(0, 0, 0, 0.3));\n",
              "      fill: #FFFFFF;\n",
              "    }\n",
              "  </style>\n",
              "\n",
              "      <script>\n",
              "        const buttonEl =\n",
              "          document.querySelector('#df-64e33795-0b9c-4622-9a66-6d99d0eca35d button.colab-df-convert');\n",
              "        buttonEl.style.display =\n",
              "          google.colab.kernel.accessAllowed ? 'block' : 'none';\n",
              "\n",
              "        async function convertToInteractive(key) {\n",
              "          const element = document.querySelector('#df-64e33795-0b9c-4622-9a66-6d99d0eca35d');\n",
              "          const dataTable =\n",
              "            await google.colab.kernel.invokeFunction('convertToInteractive',\n",
              "                                                     [key], {});\n",
              "          if (!dataTable) return;\n",
              "\n",
              "          const docLinkHtml = 'Like what you see? Visit the ' +\n",
              "            '<a target=\"_blank\" href=https://colab.research.google.com/notebooks/data_table.ipynb>data table notebook</a>'\n",
              "            + ' to learn more about interactive tables.';\n",
              "          element.innerHTML = '';\n",
              "          dataTable['output_type'] = 'display_data';\n",
              "          await google.colab.output.renderOutput(dataTable, element);\n",
              "          const docLink = document.createElement('div');\n",
              "          docLink.innerHTML = docLinkHtml;\n",
              "          element.appendChild(docLink);\n",
              "        }\n",
              "      </script>\n",
              "    </div>\n",
              "  </div>\n",
              "  "
            ]
          },
          "metadata": {},
          "execution_count": 10
        }
      ]
    },
    {
      "cell_type": "code",
      "execution_count": null,
      "metadata": {
        "id": "ZfBiLTDvX5Ry"
      },
      "outputs": [],
      "source": [
        "scaler = StandardScaler()\n",
        "\n",
        "X_train = scaler.fit_transform(X_train)\n",
        "\n",
        "X_rtest = scaler.transform(X_rtest)"
      ]
    },
    {
      "cell_type": "code",
      "execution_count": null,
      "metadata": {
        "id": "hVoyx5uOCE_5"
      },
      "outputs": [],
      "source": [
        "from sklearn.model_selection import GridSearchCV\n",
        "from sklearn.ensemble import IsolationForest\n",
        "from sklearn.metrics import make_scorer, accuracy_score, confusion_matrix, classification_report\n",
        "from sklearn.base import BaseEstimator, TransformerMixin\n",
        "from tensorflow.keras.models import Model\n",
        "from tensorflow.keras.layers import Input, Dense\n",
        "from tensorflow.keras.optimizers import Adam\n",
        "\n",
        "# Autoencoder 클래스 정의\n",
        "class Autoencoder(BaseEstimator, TransformerMixin):\n",
        "    def __init__(self, input_dim, encoding_dim, optimizer='adam', epochs=10, batch_size=32):\n",
        "        self.input_dim = input_dim\n",
        "        self.encoding_dim = encoding_dim\n",
        "        self.optimizer = optimizer\n",
        "        self.epochs = epochs\n",
        "        self.batch_size = batch_size\n",
        "        self.autoencoder = None\n",
        "\n",
        "    def fit(self, X, y=None):\n",
        "        input_layer = Input(shape=(self.input_dim,))\n",
        "        encoded = Dense(self.encoding_dim, activation='relu')(input_layer)\n",
        "        decoded = Dense(self.input_dim, activation='sigmoid')(encoded)\n",
        "\n",
        "        self.autoencoder = Model(inputs=input_layer, outputs=decoded)\n",
        "        self.autoencoder.compile(optimizer=self.optimizer, loss='mse')\n",
        "\n",
        "        self.autoencoder.fit(X, X, epochs=self.epochs, batch_size=self.batch_size, verbose=0)\n",
        "\n",
        "        return self\n",
        "\n",
        "    def transform(self, X):\n",
        "        encoder = Model(inputs=self.autoencoder.input, outputs=self.autoencoder.get_layer(index=1).output)\n",
        "        encoded_X = encoder.predict(X)\n",
        "        decoder_input = Input(shape=(self.encoding_dim,))\n",
        "        decoded_output = self.autoencoder.layers[-1](decoder_input)  # 마지막 레이어는 디코더 레이어입니다.\n",
        "        decoder = Model(inputs=decoder_input, outputs=decoded_output)\n",
        "        decoded_X = decoder.predict(encoded_X)\n",
        "        return decoded_X"
      ]
    },
    {
      "cell_type": "code",
      "execution_count": null,
      "metadata": {
        "id": "8y-7LchsCGiS"
      },
      "outputs": [],
      "source": [
        "autoencoder_params = {\n",
        "    'input_dim': X_train.shape[1],\n",
        "    'encoding_dim': 5,\n",
        "    'optimizer': 'adam',\n",
        "    'epochs': 10,\n",
        "    'batch_size': 32\n",
        "}\n"
      ]
    },
    {
      "cell_type": "code",
      "source": [
        "X_train.shape[1]"
      ],
      "metadata": {
        "colab": {
          "base_uri": "https://localhost:8080/"
        },
        "id": "o6nDt0CfPO5b",
        "outputId": "e17f8e86-f9c2-4fe4-fb63-d447f2d3ca5a"
      },
      "execution_count": null,
      "outputs": [
        {
          "output_type": "execute_result",
          "data": {
            "text/plain": [
              "7"
            ]
          },
          "metadata": {},
          "execution_count": 44
        }
      ]
    },
    {
      "cell_type": "code",
      "execution_count": null,
      "metadata": {
        "colab": {
          "base_uri": "https://localhost:8080/",
          "height": 74
        },
        "id": "x0RNfSn5CKXj",
        "outputId": "96f2a3c4-463b-4a22-d48f-d38f9edad60a"
      },
      "outputs": [
        {
          "output_type": "execute_result",
          "data": {
            "text/plain": [
              "Autoencoder(encoding_dim=5, input_dim=7)"
            ],
            "text/html": [
              "<style>#sk-container-id-1 {color: black;background-color: white;}#sk-container-id-1 pre{padding: 0;}#sk-container-id-1 div.sk-toggleable {background-color: white;}#sk-container-id-1 label.sk-toggleable__label {cursor: pointer;display: block;width: 100%;margin-bottom: 0;padding: 0.3em;box-sizing: border-box;text-align: center;}#sk-container-id-1 label.sk-toggleable__label-arrow:before {content: \"▸\";float: left;margin-right: 0.25em;color: #696969;}#sk-container-id-1 label.sk-toggleable__label-arrow:hover:before {color: black;}#sk-container-id-1 div.sk-estimator:hover label.sk-toggleable__label-arrow:before {color: black;}#sk-container-id-1 div.sk-toggleable__content {max-height: 0;max-width: 0;overflow: hidden;text-align: left;background-color: #f0f8ff;}#sk-container-id-1 div.sk-toggleable__content pre {margin: 0.2em;color: black;border-radius: 0.25em;background-color: #f0f8ff;}#sk-container-id-1 input.sk-toggleable__control:checked~div.sk-toggleable__content {max-height: 200px;max-width: 100%;overflow: auto;}#sk-container-id-1 input.sk-toggleable__control:checked~label.sk-toggleable__label-arrow:before {content: \"▾\";}#sk-container-id-1 div.sk-estimator input.sk-toggleable__control:checked~label.sk-toggleable__label {background-color: #d4ebff;}#sk-container-id-1 div.sk-label input.sk-toggleable__control:checked~label.sk-toggleable__label {background-color: #d4ebff;}#sk-container-id-1 input.sk-hidden--visually {border: 0;clip: rect(1px 1px 1px 1px);clip: rect(1px, 1px, 1px, 1px);height: 1px;margin: -1px;overflow: hidden;padding: 0;position: absolute;width: 1px;}#sk-container-id-1 div.sk-estimator {font-family: monospace;background-color: #f0f8ff;border: 1px dotted black;border-radius: 0.25em;box-sizing: border-box;margin-bottom: 0.5em;}#sk-container-id-1 div.sk-estimator:hover {background-color: #d4ebff;}#sk-container-id-1 div.sk-parallel-item::after {content: \"\";width: 100%;border-bottom: 1px solid gray;flex-grow: 1;}#sk-container-id-1 div.sk-label:hover label.sk-toggleable__label {background-color: #d4ebff;}#sk-container-id-1 div.sk-serial::before {content: \"\";position: absolute;border-left: 1px solid gray;box-sizing: border-box;top: 0;bottom: 0;left: 50%;z-index: 0;}#sk-container-id-1 div.sk-serial {display: flex;flex-direction: column;align-items: center;background-color: white;padding-right: 0.2em;padding-left: 0.2em;position: relative;}#sk-container-id-1 div.sk-item {position: relative;z-index: 1;}#sk-container-id-1 div.sk-parallel {display: flex;align-items: stretch;justify-content: center;background-color: white;position: relative;}#sk-container-id-1 div.sk-item::before, #sk-container-id-1 div.sk-parallel-item::before {content: \"\";position: absolute;border-left: 1px solid gray;box-sizing: border-box;top: 0;bottom: 0;left: 50%;z-index: -1;}#sk-container-id-1 div.sk-parallel-item {display: flex;flex-direction: column;z-index: 1;position: relative;background-color: white;}#sk-container-id-1 div.sk-parallel-item:first-child::after {align-self: flex-end;width: 50%;}#sk-container-id-1 div.sk-parallel-item:last-child::after {align-self: flex-start;width: 50%;}#sk-container-id-1 div.sk-parallel-item:only-child::after {width: 0;}#sk-container-id-1 div.sk-dashed-wrapped {border: 1px dashed gray;margin: 0 0.4em 0.5em 0.4em;box-sizing: border-box;padding-bottom: 0.4em;background-color: white;}#sk-container-id-1 div.sk-label label {font-family: monospace;font-weight: bold;display: inline-block;line-height: 1.2em;}#sk-container-id-1 div.sk-label-container {text-align: center;}#sk-container-id-1 div.sk-container {/* jupyter's `normalize.less` sets `[hidden] { display: none; }` but bootstrap.min.css set `[hidden] { display: none !important; }` so we also need the `!important` here to be able to override the default hidden behavior on the sphinx rendered scikit-learn.org. See: https://github.com/scikit-learn/scikit-learn/issues/21755 */display: inline-block !important;position: relative;}#sk-container-id-1 div.sk-text-repr-fallback {display: none;}</style><div id=\"sk-container-id-1\" class=\"sk-top-container\"><div class=\"sk-text-repr-fallback\"><pre>Autoencoder(encoding_dim=5, input_dim=7)</pre><b>In a Jupyter environment, please rerun this cell to show the HTML representation or trust the notebook. <br />On GitHub, the HTML representation is unable to render, please try loading this page with nbviewer.org.</b></div><div class=\"sk-container\" hidden><div class=\"sk-item\"><div class=\"sk-estimator sk-toggleable\"><input class=\"sk-toggleable__control sk-hidden--visually\" id=\"sk-estimator-id-1\" type=\"checkbox\" checked><label for=\"sk-estimator-id-1\" class=\"sk-toggleable__label sk-toggleable__label-arrow\">Autoencoder</label><div class=\"sk-toggleable__content\"><pre>Autoencoder(encoding_dim=5, input_dim=7)</pre></div></div></div></div></div>"
            ]
          },
          "metadata": {},
          "execution_count": 12
        }
      ],
      "source": [
        "# Autoencoder 모델 학습\n",
        "autoencoder = Autoencoder(\n",
        "    input_dim=autoencoder_params['input_dim'],\n",
        "    encoding_dim=autoencoder_params['encoding_dim'],\n",
        "    optimizer=autoencoder_par ams['optimizer'],\n",
        "    epochs=autoencoder_params['epochs'],\n",
        "    batch_size=autoencoder_params['batch_size']\n",
        ")\n",
        "autoencoder.fit(X_train)"
      ]
    },
    {
      "cell_type": "code",
      "execution_count": null,
      "metadata": {
        "colab": {
          "base_uri": "https://localhost:8080/"
        },
        "id": "RZG_rkWECLKE",
        "outputId": "76e09d85-125d-48c9-a5a9-28bcbd058d50"
      },
      "outputs": [
        {
          "output_type": "stream",
          "name": "stdout",
          "text": [
            "83676/83676 [==============================] - 121s 1ms/step\n",
            "83676/83676 [==============================] - 122s 1ms/step\n",
            "36290/36290 [==============================] - 51s 1ms/step\n",
            "36290/36290 [==============================] - 54s 1ms/step\n"
          ]
        }
      ],
      "source": [
        "# Autoencoder를 사용하여 특징 추출\n",
        "encoded_X_train = autoencoder.transform(X_train)\n",
        "encoded_X_test = autoencoder.transform(X_rtest)"
      ]
    },
    {
      "cell_type": "markdown",
      "metadata": {
        "id": "Q4ki66oNN_4R"
      },
      "source": [
        "# **IF_REAL**"
      ]
    },
    {
      "cell_type": "code",
      "execution_count": null,
      "metadata": {
        "colab": {
          "base_uri": "https://localhost:8080/"
        },
        "id": "RJKYB569ODAK",
        "outputId": "bbb0c3e5-4709-49de-ef96-a16402816d74"
      },
      "outputs": [
        {
          "output_type": "stream",
          "name": "stdout",
          "text": [
            "0.14\n"
          ]
        }
      ],
      "source": [
        "from sklearn.ensemble import IsolationForest\n",
        "outlier_fraction = 0.14\n",
        "\n",
        "print(outlier_fraction)\n"
      ]
    },
    {
      "cell_type": "code",
      "execution_count": null,
      "metadata": {
        "colab": {
          "base_uri": "https://localhost:8080/"
        },
        "id": "J7-qLwHGTtJ0",
        "outputId": "3b7fc442-1e4b-4ccd-e4ce-f4e2f44dbffd"
      },
      "outputs": [
        {
          "output_type": "stream",
          "name": "stderr",
          "text": [
            "/usr/local/lib/python3.10/dist-packages/sklearn/ensemble/_iforest.py:307: UserWarning: max_samples (3347013) is greater than the total number of samples (2677610). max_samples will be set to n_samples for estimation.\n",
            "  warn(\n"
          ]
        }
      ],
      "source": [
        "\n",
        "# Isolation Forest 모델 생성 및 학습\n",
        "clf = IsolationForest(n_estimators=100, max_samples=len(X), contamination=outlier_fraction,random_state=5, verbose=0)  # 이상치 비율 설정\n",
        "clf.fit(encoded_X_train)\n",
        "scores_prediction = clf.decision_function(encoded_X_train)\n",
        "y_pred = clf.predict(encoded_X_test)"
      ]
    },
    {
      "cell_type": "code",
      "execution_count": null,
      "metadata": {
        "id": "xGGdziLQS-H0"
      },
      "outputs": [],
      "source": [
        "#Reshape the prediction values to 0 for Valid transactions , 2 for Fraud transactions\n",
        "y_pred[y_pred == 1] = 0\n",
        "y_pred[y_pred == -1] = 2"
      ]
    },
    {
      "cell_type": "code",
      "execution_count": null,
      "metadata": {
        "colab": {
          "base_uri": "https://localhost:8080/"
        },
        "id": "zcbwzQlPTE7_",
        "outputId": "0647b615-bc74-4c47-d0ee-b4f7c6601f14"
      },
      "outputs": [
        {
          "output_type": "stream",
          "name": "stdout",
          "text": [
            "Accuracy Score :\n",
            "0.913659418729817\n",
            "Classification Report :\n",
            "              precision    recall  f1-score   support\n",
            "\n",
            "           0       0.99      0.86      0.92    669403\n",
            "           2       0.84      0.99      0.91    491847\n",
            "\n",
            "    accuracy                           0.91   1161250\n",
            "   macro avg       0.91      0.92      0.91   1161250\n",
            "weighted avg       0.93      0.91      0.91   1161250\n",
            "\n"
          ]
        },
        {
          "output_type": "execute_result",
          "data": {
            "text/plain": [
              "<Axes: >"
            ]
          },
          "metadata": {},
          "execution_count": 17
        },
        {
          "output_type": "display_data",
          "data": {
            "text/plain": [
              "<Figure size 640x480 with 2 Axes>"
            ],
            "image/png": "[encoded data removed]"
          },
          "metadata": {}
        }
      ],
      "source": [
        "\n",
        "#y_pred랑 y_test랑 비교해야함\n",
        "import seaborn\n",
        "print(\"Accuracy Score :\")\n",
        "print(accuracy_score(Y_rtest,y_pred))\n",
        "print(\"Classification Report :\")\n",
        "print(classification_report(Y_rtest,y_pred))\n",
        "\n",
        "cm = confusion_matrix(Y_rtest, y_pred)\n",
        "\n",
        "cm_matrix = pd.DataFrame(data=cm, columns=['Benign','Fuzzy'],\n",
        "                              index=['Benign', 'Fuzzy'])\n",
        "\n",
        "seaborn.heatmap(cm_matrix, annot=True, fmt='d', cmap='YlGnBu')"
      ]
    },
    {
      "cell_type": "markdown",
      "metadata": {
        "id": "67Slju376rr0"
      },
      "source": [
        "# **IF_REAL_0.1**"
      ]
    },
    {
      "cell_type": "code",
      "execution_count": null,
      "metadata": {
        "id": "UqkoAaNV66Iz"
      },
      "outputs": [],
      "source": [
        "# Isolation Forest 모델 생성 및 학습\n",
        "clf = IsolationForest(n_estimators=100, max_samples=len(encoded_X_train), contamination=0.1,random_state=5, verbose=0)  # 이상치 비율 설정\n",
        "clf.fit(encoded_X_train)\n",
        "scores_prediction = clf.decision_function(encoded_X_train)\n",
        "y_pred = clf.predict(encoded_X_test)"
      ]
    },
    {
      "cell_type": "code",
      "execution_count": null,
      "metadata": {
        "id": "bF0oGZSu66ZW"
      },
      "outputs": [],
      "source": [
        "#Reshape the prediction values to 0 for Valid transactions , 2 for Fraud transactions\n",
        "y_pred[y_pred == 1] = 0\n",
        "y_pred[y_pred == -1] = 2"
      ]
    },
    {
      "cell_type": "code",
      "execution_count": null,
      "metadata": {
        "colab": {
          "base_uri": "https://localhost:8080/"
        },
        "id": "EvfvCWuo66bX",
        "outputId": "135bb17e-d642-4360-d000-820533c1f651"
      },
      "outputs": [
        {
          "output_type": "stream",
          "name": "stdout",
          "text": [
            "Accuracy Score :\n",
            "0.935907857911733\n",
            "Classification Report :\n",
            "              precision    recall  f1-score   support\n",
            "\n",
            "           0       0.99      0.90      0.94    669403\n",
            "           2       0.88      0.99      0.93    491847\n",
            "\n",
            "    accuracy                           0.94   1161250\n",
            "   macro avg       0.93      0.94      0.94   1161250\n",
            "weighted avg       0.94      0.94      0.94   1161250\n",
            "\n"
          ]
        },
        {
          "output_type": "execute_result",
          "data": {
            "text/plain": [
              "<Axes: >"
            ]
          },
          "metadata": {},
          "execution_count": 20
        },
        {
          "output_type": "display_data",
          "data": {
            "text/plain": [
              "<Figure size 640x480 with 2 Axes>"
            ],
            "image/png": "[encoded data removed]"
          },
          "metadata": {}
        }
      ],
      "source": [
        "#y_pred랑 y_test랑 비교해야함\n",
        "import seaborn\n",
        "print(\"Accuracy Score :\")\n",
        "print(accuracy_score(Y_rtest,y_pred))\n",
        "print(\"Classification Report :\")\n",
        "print(classification_report(Y_rtest,y_pred))\n",
        "\n",
        "cm = confusion_matrix(Y_rtest, y_pred)\n",
        "\n",
        "cm_matrix = pd.DataFrame(data=cm, columns=['Benign','Fuzzy'],\n",
        "                              index=['Benign', 'Fuzzy'])\n",
        "\n",
        "seaborn.heatmap(cm_matrix, annot=True, fmt='d', cmap='YlGnBu')"
      ]
    },
    {
      "cell_type": "markdown",
      "metadata": {
        "id": "2IAcqOAl7Hf0"
      },
      "source": [
        "# **IF_REAL_0.3**"
      ]
    },
    {
      "cell_type": "code",
      "execution_count": null,
      "metadata": {
        "id": "oWXLoTSM7Lvv"
      },
      "outputs": [],
      "source": [
        "# Isolation Forest 모델 생성 및 학습\n",
        "clf = IsolationForest(n_estimators=100, max_samples=len(encoded_X_train), contamination=0.3,random_state=5, verbose=0)  # 이상치 비율 설정\n",
        "clf.fit(encoded_X_train)\n",
        "scores_prediction = clf.decision_function(encoded_X_train)\n",
        "y_pred = clf.predict(encoded_X_test)"
      ]
    },
    {
      "cell_type": "code",
      "execution_count": null,
      "metadata": {
        "id": "u_GVAybJ7Lxt"
      },
      "outputs": [],
      "source": [
        "#Reshape the prediction values to 0 for Valid transactions , 2 for Fraud transactions\n",
        "y_pred[y_pred == 1] = 0\n",
        "y_pred[y_pred == -1] = 2"
      ]
    },
    {
      "cell_type": "code",
      "execution_count": null,
      "metadata": {
        "colab": {
          "base_uri": "https://localhost:8080/"
        },
        "id": "YhtgLVc07Lz5",
        "outputId": "dd7d4674-8fe4-41be-ba01-e2fef7c0d22b"
      },
      "outputs": [
        {
          "output_type": "stream",
          "name": "stdout",
          "text": [
            "Accuracy Score :\n",
            "0.8269003229278794\n",
            "Classification Report :\n",
            "              precision    recall  f1-score   support\n",
            "\n",
            "           0       1.00      0.70      0.82    669403\n",
            "           2       0.71      1.00      0.83    491847\n",
            "\n",
            "    accuracy                           0.83   1161250\n",
            "   macro avg       0.85      0.85      0.83   1161250\n",
            "weighted avg       0.88      0.83      0.83   1161250\n",
            "\n"
          ]
        },
        {
          "output_type": "execute_result",
          "data": {
            "text/plain": [
              "<Axes: >"
            ]
          },
          "metadata": {},
          "execution_count": 23
        },
        {
          "output_type": "display_data",
          "data": {
            "text/plain": [
              "<Figure size 640x480 with 2 Axes>"
            ],
            "image/png": "[encoded data removed]"
          },
          "metadata": {}
        }
      ],
      "source": [
        "#y_pred랑 y_test랑 비교해야함\n",
        "import seaborn\n",
        "print(\"Accuracy Score :\")\n",
        "print(accuracy_score(Y_rtest,y_pred))\n",
        "print(\"Classification Report :\")\n",
        "print(classification_report(Y_rtest,y_pred))\n",
        "\n",
        "cm = confusion_matrix(Y_rtest, y_pred)\n",
        "\n",
        "cm_matrix = pd.DataFrame(data=cm, columns=['Benign','Fuzzy'],\n",
        "                              index=['Benign', 'Fuzzy'])\n",
        "\n",
        "seaborn.heatmap(cm_matrix, annot=True, fmt='d', cmap='YlGnBu')"
      ]
    },
    {
      "cell_type": "markdown",
      "metadata": {
        "id": "n7UQ2gGM7IZ1"
      },
      "source": [
        "# **IF_REAL_auto**"
      ]
    },
    {
      "cell_type": "code",
      "execution_count": null,
      "metadata": {
        "id": "-jhgCQN27Vrv"
      },
      "outputs": [],
      "source": [
        "# Isolation Forest 모델 생성 및 학습\n",
        "contamination = 'auto'\n",
        "clf = IsolationForest(n_estimators=100, max_samples=len(encoded_X_train), contamination=contamination,random_state=5, verbose=0)  # 이상치 비율 설정\n",
        "clf.fit(encoded_X_train)\n",
        "scores_prediction = clf.decision_function(encoded_X_train)\n",
        "y_pred = clf.predict(encoded_X_test)"
      ]
    },
    {
      "cell_type": "code",
      "source": [
        "cnt=0\n",
        "for keys in Y_train:\n",
        "  if keys==0:\n",
        "    cnt+=1\n",
        "print(cnt)"
      ],
      "metadata": {
        "colab": {
          "base_uri": "https://localhost:8080/"
        },
        "id": "VHauw2dc1Gk4",
        "outputId": "1e2db496-1354-47c7-8a71-67f3ee7bd2a6"
      },
      "execution_count": null,
      "outputs": [
        {
          "output_type": "stream",
          "name": "stdout",
          "text": [
            "2677610\n"
          ]
        }
      ]
    },
    {
      "cell_type": "code",
      "execution_count": null,
      "metadata": {
        "colab": {
          "base_uri": "https://localhost:8080/"
        },
        "id": "jKxRD_HS7VuP",
        "outputId": "e6fd5296-548f-4080-c497-003923df74ca"
      },
      "outputs": [
        {
          "output_type": "stream",
          "name": "stdout",
          "text": [
            "auto\n"
          ]
        }
      ],
      "source": [
        "#Reshape the prediction values to 0 for Valid transactions , 2 for Fraud transactions\n",
        "y_pred[y_pred == 1] = 0\n",
        "y_pred[y_pred == -1] = 2\n",
        "print(contamination)"
      ]
    },
    {
      "cell_type": "code",
      "execution_count": null,
      "metadata": {
        "colab": {
          "base_uri": "https://localhost:8080/"
        },
        "id": "dKc5SKhf7Vwk",
        "outputId": "7f8dc702-1138-4dc6-c1d1-dc6ab06f9d07"
      },
      "outputs": [
        {
          "output_type": "stream",
          "name": "stdout",
          "text": [
            "Accuracy Score :\n",
            "0.9782079655543595\n",
            "Classification Report :\n",
            "              precision    recall  f1-score   support\n",
            "\n",
            "           0       0.98      0.98      0.98    669403\n",
            "           2       0.98      0.97      0.97    491847\n",
            "\n",
            "    accuracy                           0.98   1161250\n",
            "   macro avg       0.98      0.98      0.98   1161250\n",
            "weighted avg       0.98      0.98      0.98   1161250\n",
            "\n"
          ]
        },
        {
          "output_type": "execute_result",
          "data": {
            "text/plain": [
              "<Axes: >"
            ]
          },
          "metadata": {},
          "execution_count": 27
        },
        {
          "output_type": "display_data",
          "data": {
            "text/plain": [
              "<Figure size 640x480 with 2 Axes>"
            ],
            "image/png": "[encoded data removed]"
          },
          "metadata": {}
        }
      ],
      "source": [
        "#y_pred랑 y_test랑 비교해야함\n",
        "import seaborn\n",
        "print(\"Accuracy Score :\")\n",
        "print(accuracy_score(Y_rtest,y_pred))\n",
        "print(\"Classification Report :\")\n",
        "print(classification_report(Y_rtest,y_pred))\n",
        "\n",
        "cm = confusion_matrix(Y_rtest, y_pred)\n",
        "\n",
        "cm_matrix = pd.DataFrame(data=cm, columns=['Benign','Fuzzy'],\n",
        "                              index=['Benign', 'Fuzzy'])\n",
        "\n",
        "seaborn.heatmap(cm_matrix, annot=True, fmt='d', cmap='YlGnBu')"
      ]
    },
    {
      "cell_type": "code",
      "source": [],
      "metadata": {
        "id": "S7MgvuoE2IOb"
      },
      "execution_count": null,
      "outputs": []
    }
  ],
  "metadata": {
    "colab": {
      "provenance": [],
      "authorship_tag": "ABX9TyNckPgm3BmhIduOS319sDkz",
      "include_colab_link": true
    },
    "kernelspec": {
      "display_name": "Python 3",
      "name": "python3"
    },
    "language_info": {
      "name": "python"
    }
  },
  "nbformat": 4,
  "nbformat_minor": 0
}