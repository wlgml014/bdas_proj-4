{
  "cells": [
    {
      "cell_type": "markdown",
      "metadata": {
        "id": "view-in-github",
        "colab_type": "text"
      },
      "source": [
        "<a href=\"https://colab.research.google.com/github/wlgml014/bdas_proj-4/blob/main/supervised/ML/012367id_autoencoder5_adaboost50_1_ipynb%EC%9D%98.ipynb\" target=\"_parent\"><img src=\"https://colab.research.google.com/assets/colab-badge.svg\" alt=\"Open In Colab\"/></a>"
      ]
    },
    {
      "cell_type": "code",
      "execution_count": null,
      "metadata": {
        "colab": {
          "base_uri": "https://localhost:8080/"
        },
        "id": "BQNhuY6CFlFo",
        "outputId": "cba768ff-e6e5-4e12-bccd-aa6be6aa9679"
      },
      "outputs": [
        {
          "name": "stdout",
          "output_type": "stream",
          "text": [
            "Mounted at /content/drive\n"
          ]
        }
      ],
      "source": [
        "from google.colab import drive\n",
        "drive.mount('/content/drive')"
      ]
    },
    {
      "cell_type": "code",
      "execution_count": null,
      "metadata": {
        "id": "9NeyY8leGCtt"
      },
      "outputs": [],
      "source": [
        "# importing pandas\n",
        "import numpy as np\n",
        "import pandas as pd\n",
        "from pandas.core.internals.blocks import F"
      ]
    },
    {
      "cell_type": "code",
      "execution_count": null,
      "metadata": {
        "id": "OYXE-WVLGKwo"
      },
      "outputs": [],
      "source": [
        "import numpy as np\n",
        "import pandas as pd\n",
        "from datetime import datetime\n",
        "\n",
        "from sklearn.model_selection import train_test_split\n",
        "from sklearn.preprocessing import StandardScaler\n",
        "from sklearn.svm import SVC\n",
        "from sklearn.metrics import confusion_matrix\n",
        "#from sklearn.metrics import plot_confusion_matrix\n",
        "from sklearn import tree\n",
        "from sklearn.metrics import classification_report\n",
        "from sklearn.metrics import accuracy_score\n",
        "from sklearn import neighbors, datasets\n",
        "#from sklearn.inspection import DecisionBoundaryDisplay\n",
        "\n",
        "import sklearn.metrics\n",
        "from sklearn import metrics\n",
        "from sklearn.metrics import f1_score\n",
        "from sklearn.metrics import mean_squared_error\n",
        "\n",
        "import matplotlib.pyplot as plt\n",
        "\n",
        "from sklearn import preprocessing\n",
        "label_encoder = preprocessing.LabelEncoder()"
      ]
    },
    {
      "cell_type": "code",
      "execution_count": null,
      "metadata": {
        "id": "OEG95NCHGPzS"
      },
      "outputs": [],
      "source": [
        "col = [4,5,6,7, 10,11,12,15]\n",
        "Dos= pd.read_csv('/content/drive/MyDrive/Colab Notebooks/preprocessing_data/DoS_dataset_pre.csv',usecols=col)\n",
        "Fuzzy=pd.read_csv('/content/drive/MyDrive/Colab Notebooks/preprocessing_data/Fuzzy_dataset_pre.csv',usecols=col)\n",
        "Rpm=pd.read_csv('/content/drive/MyDrive/Colab Notebooks/preprocessing_data/RPM_dataset_pre.csv',usecols=col)\n",
        "#,usecols = col"
      ]
    },
    {
      "cell_type": "code",
      "execution_count": null,
      "metadata": {
        "id": "Q_fubE8rUe10"
      },
      "outputs": [],
      "source": [
        "Dataset = pd.concat((Dos, Fuzzy, Rpm))\n",
        "\n",
        "def sampling_func(data, n_sample):\n",
        "    np.random.seed(10) #실행할 때마다 동일한 샘플을 추출하기 위해 random seed 고정\n",
        "    N = len(data)\n",
        "    sample = data.take(np.random.permutation(N)[:n_sample])\n",
        "    return sample\n",
        "\n",
        "SampledDataset = Dataset.groupby('Label', group_keys=False).apply(sampling_func, n_sample=250000)"
      ]
    },
    {
      "cell_type": "code",
      "execution_count": null,
      "metadata": {
        "id": "X54LxjWAUh6d"
      },
      "outputs": [],
      "source": [
        "X = SampledDataset.drop(['Label'], axis=1)\n",
        "y = SampledDataset['Label']"
      ]
    },
    {
      "cell_type": "code",
      "execution_count": null,
      "metadata": {
        "id": "dH_11wUhUmQH"
      },
      "outputs": [],
      "source": [
        "X_train, X_test, y_train, y_test = train_test_split(X, y, stratify = y, test_size = 0.2, random_state = 1)"
      ]
    },
    {
      "cell_type": "code",
      "execution_count": null,
      "metadata": {
        "id": "bY_-ezywUnlV"
      },
      "outputs": [],
      "source": [
        "scaler = StandardScaler()\n",
        "\n",
        "X_train = scaler.fit_transform(X_train)\n",
        "\n",
        "X_test = scaler.transform(X_test)"
      ]
    },
    {
      "cell_type": "code",
      "execution_count": null,
      "metadata": {
        "colab": {
          "base_uri": "https://localhost:8080/"
        },
        "id": "qZKF8IXSVFhP",
        "outputId": "4a67658e-375d-4689-a786-c3705ae2ac36"
      },
      "outputs": [
        {
          "data": {
            "text/plain": [
              "array([[-0.37585774, -0.78578224,  2.98274631, ...,  2.82181512,\n",
              "        -0.07626653,  0.33306728],\n",
              "       [ 0.06509982, -0.18752868, -0.20942697, ..., -0.54659859,\n",
              "         1.35091951, -0.32379195],\n",
              "       [ 1.12072547,  0.27266637,  2.92223117, ...,  1.95116581,\n",
              "         0.38116489,  1.73330381],\n",
              "       ...,\n",
              "       [-0.85690234, -0.81646191, -0.75406317, ..., -0.54659859,\n",
              "        -0.98198075, -0.32170354],\n",
              "       [-0.85690234, -0.81646191, -0.73893439, ..., -0.54659859,\n",
              "        -0.98198075, -0.31104711],\n",
              "       [-0.85690234, -0.81646191, -0.75406317, ..., -0.54659859,\n",
              "        -0.98198075, -0.32387813]])"
            ]
          },
          "execution_count": 9,
          "metadata": {},
          "output_type": "execute_result"
        }
      ],
      "source": [
        "X_train"
      ]
    },
    {
      "cell_type": "markdown",
      "source": [
        "# AutoEncoder: encoding_dim=5"
      ],
      "metadata": {
        "id": "tVYhtzmbSLMY"
      }
    },
    {
      "cell_type": "code",
      "execution_count": null,
      "metadata": {
        "id": "hVoyx5uOCE_5"
      },
      "outputs": [],
      "source": [
        "from sklearn.model_selection import GridSearchCV\n",
        "from sklearn.ensemble import IsolationForest\n",
        "from sklearn.metrics import make_scorer, accuracy_score, confusion_matrix, classification_report\n",
        "from sklearn.base import BaseEstimator, TransformerMixin\n",
        "from tensorflow.keras.models import Model\n",
        "from tensorflow.keras.layers import Input, Dense\n",
        "from tensorflow.keras.optimizers import Adam\n",
        "\n",
        "# Autoencoder 클래스 정의\n",
        "class Autoencoder(BaseEstimator, TransformerMixin):\n",
        "    def __init__(self, input_dim, encoding_dim, optimizer='adam', epochs=10, batch_size=32):\n",
        "        self.input_dim = input_dim\n",
        "        self.encoding_dim = encoding_dim\n",
        "        self.optimizer = optimizer\n",
        "        self.epochs = epochs\n",
        "        self.batch_size = batch_size\n",
        "        self.autoencoder = None\n",
        "\n",
        "    def fit(self, X, y=None):\n",
        "        input_layer = Input(shape=(self.input_dim,))\n",
        "        encoded = Dense(self.encoding_dim, activation='relu')(input_layer)\n",
        "        decoded = Dense(self.input_dim, activation='sigmoid')(encoded)\n",
        "\n",
        "        self.autoencoder = Model(inputs=input_layer, outputs=decoded)\n",
        "        self.autoencoder.compile(optimizer=self.optimizer, loss='mse')\n",
        "\n",
        "        self.autoencoder.fit(X, X, epochs=self.epochs, batch_size=self.batch_size, verbose=0)\n",
        "\n",
        "        return self\n",
        "\n",
        "    def transform(self, X):\n",
        "        encoder = Model(inputs=self.autoencoder.input, outputs=self.autoencoder.get_layer(index=1).output)\n",
        "        encoded_X = encoder.predict(X)\n",
        "        decoder_input = Input(shape=(self.encoding_dim,))\n",
        "        decoded_output = self.autoencoder.layers[-1](decoder_input)  # 마지막 레이어는 디코더 레이어입니다.\n",
        "        decoder = Model(inputs=decoder_input, outputs=decoded_output)\n",
        "        decoded_X = decoder.predict(encoded_X)\n",
        "        return decoded_X"
      ]
    },
    {
      "cell_type": "code",
      "execution_count": null,
      "metadata": {
        "id": "8y-7LchsCGiS"
      },
      "outputs": [],
      "source": [
        "autoencoder_params = {\n",
        "    'input_dim': X_train.shape[1],\n",
        "    'encoding_dim': 5,\n",
        "    'optimizer': 'adam',\n",
        "    'epochs': 10,\n",
        "    'batch_size': 32\n",
        "}\n"
      ]
    },
    {
      "cell_type": "code",
      "execution_count": null,
      "metadata": {
        "colab": {
          "base_uri": "https://localhost:8080/"
        },
        "id": "apnt-GfaVuZ4",
        "outputId": "c5cd616c-c04a-43c1-90a6-52dd1a84acbd"
      },
      "outputs": [
        {
          "name": "stdout",
          "output_type": "stream",
          "text": [
            "7\n"
          ]
        }
      ],
      "source": [
        "print(X_train.shape[1])"
      ]
    },
    {
      "cell_type": "code",
      "execution_count": null,
      "metadata": {
        "colab": {
          "base_uri": "https://localhost:8080/",
          "height": 74
        },
        "id": "x0RNfSn5CKXj",
        "outputId": "2e810783-7aab-42f0-8139-3bc5edf7980e"
      },
      "outputs": [
        {
          "data": {
            "text/html": [
              "<style>#sk-container-id-1 {color: black;background-color: white;}#sk-container-id-1 pre{padding: 0;}#sk-container-id-1 div.sk-toggleable {background-color: white;}#sk-container-id-1 label.sk-toggleable__label {cursor: pointer;display: block;width: 100%;margin-bottom: 0;padding: 0.3em;box-sizing: border-box;text-align: center;}#sk-container-id-1 label.sk-toggleable__label-arrow:before {content: \"▸\";float: left;margin-right: 0.25em;color: #696969;}#sk-container-id-1 label.sk-toggleable__label-arrow:hover:before {color: black;}#sk-container-id-1 div.sk-estimator:hover label.sk-toggleable__label-arrow:before {color: black;}#sk-container-id-1 div.sk-toggleable__content {max-height: 0;max-width: 0;overflow: hidden;text-align: left;background-color: #f0f8ff;}#sk-container-id-1 div.sk-toggleable__content pre {margin: 0.2em;color: black;border-radius: 0.25em;background-color: #f0f8ff;}#sk-container-id-1 input.sk-toggleable__control:checked~div.sk-toggleable__content {max-height: 200px;max-width: 100%;overflow: auto;}#sk-container-id-1 input.sk-toggleable__control:checked~label.sk-toggleable__label-arrow:before {content: \"▾\";}#sk-container-id-1 div.sk-estimator input.sk-toggleable__control:checked~label.sk-toggleable__label {background-color: #d4ebff;}#sk-container-id-1 div.sk-label input.sk-toggleable__control:checked~label.sk-toggleable__label {background-color: #d4ebff;}#sk-container-id-1 input.sk-hidden--visually {border: 0;clip: rect(1px 1px 1px 1px);clip: rect(1px, 1px, 1px, 1px);height: 1px;margin: -1px;overflow: hidden;padding: 0;position: absolute;width: 1px;}#sk-container-id-1 div.sk-estimator {font-family: monospace;background-color: #f0f8ff;border: 1px dotted black;border-radius: 0.25em;box-sizing: border-box;margin-bottom: 0.5em;}#sk-container-id-1 div.sk-estimator:hover {background-color: #d4ebff;}#sk-container-id-1 div.sk-parallel-item::after {content: \"\";width: 100%;border-bottom: 1px solid gray;flex-grow: 1;}#sk-container-id-1 div.sk-label:hover label.sk-toggleable__label {background-color: #d4ebff;}#sk-container-id-1 div.sk-serial::before {content: \"\";position: absolute;border-left: 1px solid gray;box-sizing: border-box;top: 0;bottom: 0;left: 50%;z-index: 0;}#sk-container-id-1 div.sk-serial {display: flex;flex-direction: column;align-items: center;background-color: white;padding-right: 0.2em;padding-left: 0.2em;position: relative;}#sk-container-id-1 div.sk-item {position: relative;z-index: 1;}#sk-container-id-1 div.sk-parallel {display: flex;align-items: stretch;justify-content: center;background-color: white;position: relative;}#sk-container-id-1 div.sk-item::before, #sk-container-id-1 div.sk-parallel-item::before {content: \"\";position: absolute;border-left: 1px solid gray;box-sizing: border-box;top: 0;bottom: 0;left: 50%;z-index: -1;}#sk-container-id-1 div.sk-parallel-item {display: flex;flex-direction: column;z-index: 1;position: relative;background-color: white;}#sk-container-id-1 div.sk-parallel-item:first-child::after {align-self: flex-end;width: 50%;}#sk-container-id-1 div.sk-parallel-item:last-child::after {align-self: flex-start;width: 50%;}#sk-container-id-1 div.sk-parallel-item:only-child::after {width: 0;}#sk-container-id-1 div.sk-dashed-wrapped {border: 1px dashed gray;margin: 0 0.4em 0.5em 0.4em;box-sizing: border-box;padding-bottom: 0.4em;background-color: white;}#sk-container-id-1 div.sk-label label {font-family: monospace;font-weight: bold;display: inline-block;line-height: 1.2em;}#sk-container-id-1 div.sk-label-container {text-align: center;}#sk-container-id-1 div.sk-container {/* jupyter's `normalize.less` sets `[hidden] { display: none; }` but bootstrap.min.css set `[hidden] { display: none !important; }` so we also need the `!important` here to be able to override the default hidden behavior on the sphinx rendered scikit-learn.org. See: https://github.com/scikit-learn/scikit-learn/issues/21755 */display: inline-block !important;position: relative;}#sk-container-id-1 div.sk-text-repr-fallback {display: none;}</style><div id=\"sk-container-id-1\" class=\"sk-top-container\"><div class=\"sk-text-repr-fallback\"><pre>Autoencoder(encoding_dim=5, input_dim=7)</pre><b>In a Jupyter environment, please rerun this cell to show the HTML representation or trust the notebook. <br />On GitHub, the HTML representation is unable to render, please try loading this page with nbviewer.org.</b></div><div class=\"sk-container\" hidden><div class=\"sk-item\"><div class=\"sk-estimator sk-toggleable\"><input class=\"sk-toggleable__control sk-hidden--visually\" id=\"sk-estimator-id-1\" type=\"checkbox\" checked><label for=\"sk-estimator-id-1\" class=\"sk-toggleable__label sk-toggleable__label-arrow\">Autoencoder</label><div class=\"sk-toggleable__content\"><pre>Autoencoder(encoding_dim=5, input_dim=7)</pre></div></div></div></div></div>"
            ],
            "text/plain": [
              "Autoencoder(encoding_dim=5, input_dim=7)"
            ]
          },
          "execution_count": 13,
          "metadata": {},
          "output_type": "execute_result"
        }
      ],
      "source": [
        "# Autoencoder 모델 학습\n",
        "autoencoder = Autoencoder(\n",
        "    input_dim=autoencoder_params['input_dim'],\n",
        "    encoding_dim=autoencoder_params['encoding_dim'],\n",
        "    optimizer=autoencoder_params['optimizer'],\n",
        "    epochs=autoencoder_params['epochs'],\n",
        "    batch_size=autoencoder_params['batch_size']\n",
        ")\n",
        "autoencoder.fit(X_train)"
      ]
    },
    {
      "cell_type": "code",
      "execution_count": null,
      "metadata": {
        "colab": {
          "base_uri": "https://localhost:8080/"
        },
        "id": "RZG_rkWECLKE",
        "outputId": "b9a76501-2f8b-4f55-aebe-3f66975c5a08"
      },
      "outputs": [
        {
          "name": "stdout",
          "output_type": "stream",
          "text": [
            "25000/25000 [==============================] - 29s 1ms/step\n",
            "25000/25000 [==============================] - 29s 1ms/step\n",
            "6250/6250 [==============================] - 7s 1ms/step\n",
            "6250/6250 [==============================] - 7s 1ms/step\n"
          ]
        }
      ],
      "source": [
        "# Autoencoder를 사용하여 특징 추출\n",
        "encoded_X_train = autoencoder.transform(X_train)\n",
        "encoded_X_test = autoencoder.transform(X_test)"
      ]
    },
    {
      "cell_type": "markdown",
      "source": [
        "# **Random Forest**"
      ],
      "metadata": {
        "id": "ScK_rkg8Ugx_"
      }
    },
    {
      "cell_type": "code",
      "execution_count": null,
      "metadata": {
        "id": "-bON1J1ch1qE"
      },
      "outputs": [],
      "source": [
        "from sklearn.ensemble import RandomForestClassifier\n",
        "\n",
        "rfc = RandomForestClassifier(max_depth=5,n_estimators=50)"
      ]
    },
    {
      "cell_type": "markdown",
      "source": [],
      "metadata": {
        "id": "qghPR5csUgFi"
      }
    },
    {
      "cell_type": "code",
      "execution_count": null,
      "metadata": {
        "id": "d-biY6q2jJad"
      },
      "outputs": [],
      "source": [
        "rfc.fit(encoded_X_train, y_train)\n",
        "y_pred = rfc.predict(encoded_X_test)"
      ]
    },
    {
      "cell_type": "code",
      "execution_count": null,
      "metadata": {
        "colab": {
          "base_uri": "https://localhost:8080/",
          "height": 448
        },
        "id": "QHLXAOVejYPI",
        "outputId": "184db6b2-e5f7-44dc-cf7a-980e758c3435"
      },
      "outputs": [
        {
          "data": {
            "text/plain": [
              "<Axes: >"
            ]
          },
          "execution_count": 49,
          "metadata": {},
          "output_type": "execute_result"
        },
        {
          "data": {
            "image/png": "[encoded data removed]",
            "text/plain": [
              "<Figure size 640x480 with 2 Axes>"
            ]
          },
          "metadata": {},
          "output_type": "display_data"
        }
      ],
      "source": [
        "import seaborn\n",
        "cm = confusion_matrix(y_test, y_pred)\n",
        "cm_matrix = pd.DataFrame(data=cm, columns=['Benign', 'Dos', 'Fuzzy','Rpm'],\n",
        "                                 index=['Benign', 'Dos', 'Fuzzy','Rpm'])\n",
        "\n",
        "seaborn.heatmap(cm_matrix, annot=True, fmt='d', cmap='YlGnBu')"
      ]
    },
    {
      "cell_type": "code",
      "execution_count": null,
      "metadata": {
        "colab": {
          "base_uri": "https://localhost:8080/"
        },
        "id": "LKdBD2xNag6D",
        "outputId": "17ef0805-3ce3-4b76-fd3e-ba4d3b815a68"
      },
      "outputs": [
        {
          "name": "stdout",
          "output_type": "stream",
          "text": [
            "Accuracy: 0.991835\n",
            "Precision: 0.9919060182213029\n",
            "Recall: 0.991835\n",
            "F1_Score: 0.9918370821768102\n",
            "Cohen_Kappa_Score: 0.9891133333333333\n"
          ]
        }
      ],
      "source": [
        "#evaluation for RF\n",
        "\n",
        "\n",
        "print(\"Accuracy:\",metrics.accuracy_score(y_test, y_pred))\n",
        "print(\"Precision:\",metrics.precision_score(y_test, y_pred, average='macro'))\n",
        "print(\"Recall:\",metrics.recall_score(y_test, y_pred, average='macro'))\n",
        "print(\"F1_Score:\",metrics.f1_score(y_test, y_pred, average='macro'))\n",
        "print(\"Cohen_Kappa_Score:\",sklearn.metrics.cohen_kappa_score(y_test, y_pred, labels=None, weights=None, sample_weight=None))\n",
        "#print(\"MSE:\",metrics.mean_squared_error(Y_Test,Y_Pred_svm))"
      ]
    },
    {
      "cell_type": "code",
      "execution_count": null,
      "metadata": {
        "colab": {
          "base_uri": "https://localhost:8080/"
        },
        "id": "6-8nWV2MaiwL",
        "outputId": "94c289c7-632f-4e17-e2af-43bbf3981c84"
      },
      "outputs": [
        {
          "name": "stdout",
          "output_type": "stream",
          "text": [
            "              precision    recall  f1-score   support\n",
            "\n",
            "           0       0.98      0.99      0.98     50000\n",
            "           1       1.00      1.00      1.00     50000\n",
            "           2       0.99      0.98      0.98     50000\n",
            "           3       1.00      1.00      1.00     50000\n",
            "\n",
            "    accuracy                           0.99    200000\n",
            "   macro avg       0.99      0.99      0.99    200000\n",
            "weighted avg       0.99      0.99      0.99    200000\n",
            "\n"
          ]
        }
      ],
      "source": [
        "# Individual Clasification- RF\n",
        "\n",
        "print(classification_report(y_test, y_pred))"
      ]
    },
    {
      "cell_type": "markdown",
      "metadata": {
        "id": "29N4Tnn_YhwS"
      },
      "source": [
        "# **Adaboost**"
      ]
    },
    {
      "cell_type": "code",
      "execution_count": null,
      "metadata": {
        "id": "7JO3hYJLYejM"
      },
      "outputs": [],
      "source": [
        "# Import the AdaBoost classifier\n",
        "from sklearn.ensemble import AdaBoostClassifier\n",
        "from sklearn.tree import DecisionTreeClassifier\n",
        "base_model = DecisionTreeClassifier(max_depth = 5)\n",
        "\n",
        "\n",
        "# Create adaboost classifer object\n",
        "abc = AdaBoostClassifier(base_model, n_estimators=50, learning_rate=1, random_state=0)\n",
        "\n",
        "# Train Adaboost Classifer\n",
        "model1 = abc.fit(encoded_X_train, y_train)\n",
        "\n",
        "\n",
        "#Predict the response for test dataset\n",
        "y_pred = model1.predict(encoded_X_test)"
      ]
    },
    {
      "cell_type": "code",
      "execution_count": null,
      "metadata": {
        "colab": {
          "base_uri": "https://localhost:8080/"
        },
        "id": "pvK6yxOCYoyE",
        "outputId": "2b3fd211-7c63-4af0-f81f-b0c97486cbab"
      },
      "outputs": [
        {
          "name": "stdout",
          "output_type": "stream",
          "text": [
            "AdaBoost Classifier Model Accuracy: 0.99133\n"
          ]
        }
      ],
      "source": [
        "  #import scikit-learn metrics module for accuracy calculation\n",
        "from sklearn.metrics import accuracy_score\n",
        "\n",
        "\n",
        "# calculate and print model accuracy\n",
        "print(\"AdaBoost Classifier Model Accuracy:\", accuracy_score(y_test, y_pred))"
      ]
    },
    {
      "cell_type": "code",
      "execution_count": null,
      "metadata": {
        "colab": {
          "base_uri": "https://localhost:8080/",
          "height": 453
        },
        "id": "9NCrhlkWaQgr",
        "outputId": "42d33ec1-e1ee-4afe-8746-99a1bb06f1d1"
      },
      "outputs": [
        {
          "data": {
            "text/plain": [
              "<Axes: >"
            ]
          },
          "execution_count": 31,
          "metadata": {},
          "output_type": "execute_result"
        },
        {
          "data": {
            "image/png": "[encoded data removed]",
            "text/plain": [
              "<Figure size 640x480 with 2 Axes>"
            ]
          },
          "metadata": {},
          "output_type": "display_data"
        }
      ],
      "source": [
        "import seaborn\n",
        "cm = confusion_matrix(y_test, y_pred)\n",
        "cm_matrix = pd.DataFrame(data=cm, columns=['Benign', 'Dos', 'Fuzzy','Rpm'],\n",
        "                                 index=['Benign', 'Dos', 'Fuzzy','Rpm'])\n",
        "\n",
        "seaborn.heatmap(cm_matrix, annot=True, fmt='d', cmap='YlGnBu')\n"
      ]
    },
    {
      "cell_type": "code",
      "execution_count": null,
      "metadata": {
        "colab": {
          "base_uri": "https://localhost:8080/"
        },
        "id": "_kpJXzj-KKES",
        "outputId": "0ec1a74f-f047-4ff5-fb29-6101563eabed"
      },
      "outputs": [
        {
          "name": "stdout",
          "output_type": "stream",
          "text": [
            "Accuracy: 0.99133\n",
            "Precision: 0.9914200222138938\n",
            "Recall: 0.99133\n",
            "F1_Score: 0.9913296884103813\n",
            "Cohen_Kappa_Score: 0.98844\n"
          ]
        }
      ],
      "source": [
        "#evaluation for Adaboost\n",
        "\n",
        "\n",
        "print(\"Accuracy:\",metrics.accuracy_score(y_test, y_pred))\n",
        "print(\"Precision:\",metrics.precision_score(y_test, y_pred, average='macro'))\n",
        "print(\"Recall:\",metrics.recall_score(y_test, y_pred, average='macro'))\n",
        "print(\"F1_Score:\",metrics.f1_score(y_test, y_pred, average='macro'))\n",
        "print(\"Cohen_Kappa_Score:\",sklearn.metrics.cohen_kappa_score(y_test, y_pred, labels=None, weights=None, sample_weight=None))"
      ]
    },
    {
      "cell_type": "code",
      "execution_count": null,
      "metadata": {
        "colab": {
          "base_uri": "https://localhost:8080/"
        },
        "id": "FviaWqQPKXeW",
        "outputId": "2ec31d08-59ef-4393-c09d-c5403ff6559f"
      },
      "outputs": [
        {
          "name": "stdout",
          "output_type": "stream",
          "text": [
            "              precision    recall  f1-score   support\n",
            "\n",
            "           0       0.98      0.99      0.98     50000\n",
            "           1       1.00      0.98      0.99     50000\n",
            "           2       0.99      1.00      0.99     50000\n",
            "           3       1.00      1.00      1.00     50000\n",
            "\n",
            "    accuracy                           0.99    200000\n",
            "   macro avg       0.99      0.99      0.99    200000\n",
            "weighted avg       0.99      0.99      0.99    200000\n",
            "\n"
          ]
        }
      ],
      "source": [
        "# Individual Clasification- Adaboostw\n",
        "\n",
        "print(classification_report(y_test, y_pred))"
      ]
    }
  ],
  "metadata": {
    "colab": {
      "collapsed_sections": [
        "mNHC4IGOjBaC"
      ],
      "provenance": [],
      "include_colab_link": true
    },
    "kernelspec": {
      "display_name": "Python 3",
      "name": "python3"
    },
    "language_info": {
      "name": "python"
    }
  },
  "nbformat": 4,
  "nbformat_minor": 0
}