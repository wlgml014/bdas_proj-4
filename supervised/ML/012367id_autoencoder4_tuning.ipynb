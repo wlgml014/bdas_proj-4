{
  "cells": [
    {
      "cell_type": "markdown",
      "metadata": {
        "id": "view-in-github",
        "colab_type": "text"
      },
      "source": [
        "<a href=\"https://colab.research.google.com/github/wlgml014/bdas_proj-4/blob/main/supervised/ML/012367id_autoencoder4_tuning.ipynb\" target=\"_parent\"><img src=\"https://colab.research.google.com/assets/colab-badge.svg\" alt=\"Open In Colab\"/></a>"
      ]
    },
    {
      "cell_type": "code",
      "execution_count": null,
      "metadata": {
        "colab": {
          "base_uri": "https://localhost:8080/"
        },
        "id": "BQNhuY6CFlFo",
        "outputId": "dda76797-9e56-48bc-d944-06d72c7691e2"
      },
      "outputs": [
        {
          "output_type": "stream",
          "name": "stdout",
          "text": [
            "Mounted at /content/drive\n"
          ]
        }
      ],
      "source": [
        "from google.colab import drive\n",
        "drive.mount('/content/drive')"
      ]
    },
    {
      "cell_type": "code",
      "execution_count": null,
      "metadata": {
        "id": "9NeyY8leGCtt"
      },
      "outputs": [],
      "source": [
        "# importing pandas\n",
        "import numpy as np\n",
        "import pandas as pd\n",
        "from pandas.core.internals.blocks import F"
      ]
    },
    {
      "cell_type": "code",
      "execution_count": null,
      "metadata": {
        "id": "OYXE-WVLGKwo"
      },
      "outputs": [],
      "source": [
        "import numpy as np\n",
        "import pandas as pd\n",
        "from datetime import datetime\n",
        "\n",
        "from sklearn.model_selection import train_test_split\n",
        "from sklearn.preprocessing import StandardScaler\n",
        "from sklearn.svm import SVC\n",
        "from sklearn.metrics import confusion_matrix\n",
        "#from sklearn.metrics import plot_confusion_matrix\n",
        "from sklearn import tree\n",
        "from sklearn.metrics import classification_report\n",
        "from sklearn.metrics import accuracy_score\n",
        "from sklearn import neighbors, datasets\n",
        "#from sklearn.inspection import DecisionBoundaryDisplay\n",
        "\n",
        "import sklearn.metrics\n",
        "from sklearn import metrics\n",
        "from sklearn.metrics import f1_score\n",
        "from sklearn.metrics import mean_squared_error\n",
        "\n",
        "import matplotlib.pyplot as plt\n",
        "\n",
        "from sklearn import preprocessing\n",
        "label_encoder = preprocessing.LabelEncoder()"
      ]
    },
    {
      "cell_type": "code",
      "execution_count": null,
      "metadata": {
        "id": "OEG95NCHGPzS"
      },
      "outputs": [],
      "source": [
        "col = [4,5,6,7, 10,11,12,15]\n",
        "Dos= pd.read_csv('/content/drive/MyDrive/Colab Notebooks/preprocessing_data/DoS_dataset_pre.csv',usecols=col)\n",
        "Fuzzy=pd.read_csv('/content/drive/MyDrive/Colab Notebooks/preprocessing_data/Fuzzy_dataset_pre.csv',usecols=col)\n",
        "Rpm=pd.read_csv('/content/drive/MyDrive/Colab Notebooks/preprocessing_data/RPM_dataset_pre.csv',usecols=col)\n",
        "#,usecols = col"
      ]
    },
    {
      "cell_type": "code",
      "source": [
        "Dataset = pd.concat((Dos, Fuzzy, Rpm))\n",
        "\n",
        "def sampling_func(data, n_sample):\n",
        "    np.random.seed(10) #실행할 때마다 동일한 샘플을 추출하기 위해 random seed 고정\n",
        "    N = len(data)\n",
        "    sample = data.take(np.random.permutation(N)[:n_sample])\n",
        "    return sample\n",
        "\n",
        "SampledDataset = Dataset.groupby('Label', group_keys=False).apply(sampling_func, n_sample=250000)"
      ],
      "metadata": {
        "id": "Q_fubE8rUe10"
      },
      "execution_count": null,
      "outputs": []
    },
    {
      "cell_type": "code",
      "source": [
        "X = SampledDataset.drop(['Label'], axis=1)\n",
        "y = SampledDataset['Label']"
      ],
      "metadata": {
        "id": "X54LxjWAUh6d"
      },
      "execution_count": null,
      "outputs": []
    },
    {
      "cell_type": "code",
      "source": [
        "X_train, X_test, y_train, y_test = train_test_split(X, y, stratify = y, test_size = 0.2, random_state = 1)"
      ],
      "metadata": {
        "id": "dH_11wUhUmQH"
      },
      "execution_count": null,
      "outputs": []
    },
    {
      "cell_type": "code",
      "source": [
        "scaler = StandardScaler()\n",
        "\n",
        "X_train = scaler.fit_transform(X_train)\n",
        "\n",
        "X_test = scaler.transform(X_test)"
      ],
      "metadata": {
        "id": "bY_-ezywUnlV"
      },
      "execution_count": null,
      "outputs": []
    },
    {
      "cell_type": "code",
      "source": [
        "X_train"
      ],
      "metadata": {
        "id": "qZKF8IXSVFhP",
        "colab": {
          "base_uri": "https://localhost:8080/"
        },
        "outputId": "73194dd4-9441-4fa1-ecdf-4a9924fa11fc"
      },
      "execution_count": null,
      "outputs": [
        {
          "output_type": "execute_result",
          "data": {
            "text/plain": [
              "array([[-0.37585774, -0.78578224,  2.98274631, ...,  2.82181512,\n",
              "        -0.07626653,  0.33306728],\n",
              "       [ 0.06509982, -0.18752868, -0.20942697, ..., -0.54659859,\n",
              "         1.35091951, -0.32379195],\n",
              "       [ 1.12072547,  0.27266637,  2.92223117, ...,  1.95116581,\n",
              "         0.38116489,  1.73330381],\n",
              "       ...,\n",
              "       [-0.85690234, -0.81646191, -0.75406317, ..., -0.54659859,\n",
              "        -0.98198075, -0.32170354],\n",
              "       [-0.85690234, -0.81646191, -0.73893439, ..., -0.54659859,\n",
              "        -0.98198075, -0.31104711],\n",
              "       [-0.85690234, -0.81646191, -0.75406317, ..., -0.54659859,\n",
              "        -0.98198075, -0.32387813]])"
            ]
          },
          "metadata": {},
          "execution_count": 10
        }
      ]
    },
    {
      "cell_type": "code",
      "source": [
        "from sklearn.model_selection import GridSearchCV\n",
        "from sklearn.ensemble import IsolationForest\n",
        "from sklearn.metrics import make_scorer, accuracy_score, confusion_matrix, classification_report\n",
        "from sklearn.base import BaseEstimator, TransformerMixin\n",
        "from tensorflow.keras.models import Model\n",
        "from tensorflow.keras.layers import Input, Dense\n",
        "from tensorflow.keras.optimizers import Adam\n",
        "\n",
        "# Autoencoder 클래스 정의\n",
        "class Autoencoder(BaseEstimator, TransformerMixin):\n",
        "    def __init__(self, input_dim, encoding_dim, optimizer='adam', epochs=10, batch_size=32):\n",
        "        self.input_dim = input_dim\n",
        "        self.encoding_dim = encoding_dim\n",
        "        self.optimizer = optimizer\n",
        "        self.epochs = epochs\n",
        "        self.batch_size = batch_size\n",
        "        self.autoencoder = None\n",
        "\n",
        "    def fit(self, X, y=None):\n",
        "        input_layer = Input(shape=(self.input_dim,))\n",
        "        encoded = Dense(self.encoding_dim, activation='relu')(input_layer)\n",
        "        decoded = Dense(self.input_dim, activation='sigmoid')(encoded)\n",
        "\n",
        "        self.autoencoder = Model(inputs=input_layer, outputs=decoded)\n",
        "        self.autoencoder.compile(optimizer=self.optimizer, loss='mse')\n",
        "\n",
        "        self.autoencoder.fit(X, X, epochs=self.epochs, batch_size=self.batch_size, verbose=0)\n",
        "\n",
        "        return self\n",
        "\n",
        "    def transform(self, X):\n",
        "        encoder = Model(inputs=self.autoencoder.input, outputs=self.autoencoder.get_layer(index=1).output)\n",
        "        encoded_X = encoder.predict(X)\n",
        "        decoder_input = Input(shape=(self.encoding_dim,))\n",
        "        decoded_output = self.autoencoder.layers[-1](decoder_input)  # 마지막 레이어는 디코더 레이어입니다.\n",
        "        decoder = Model(inputs=decoder_input, outputs=decoded_output)\n",
        "        decoded_X = decoder.predict(encoded_X)\n",
        "        return decoded_X"
      ],
      "metadata": {
        "id": "hVoyx5uOCE_5"
      },
      "execution_count": null,
      "outputs": []
    },
    {
      "cell_type": "code",
      "source": [
        "autoencoder_params = {\n",
        "    'input_dim': X_train.shape[1],\n",
        "    'encoding_dim': 4,\n",
        "    'optimizer': 'adam',\n",
        "    'epochs': 10,\n",
        "    'batch_size': 32\n",
        "}\n"
      ],
      "metadata": {
        "id": "8y-7LchsCGiS"
      },
      "execution_count": null,
      "outputs": []
    },
    {
      "cell_type": "code",
      "source": [
        "print(X_train.shape[1])"
      ],
      "metadata": {
        "colab": {
          "base_uri": "https://localhost:8080/"
        },
        "id": "apnt-GfaVuZ4",
        "outputId": "e0ea5c11-08e7-4663-9981-31426de82d62"
      },
      "execution_count": null,
      "outputs": [
        {
          "output_type": "stream",
          "name": "stdout",
          "text": [
            "7\n"
          ]
        }
      ]
    },
    {
      "cell_type": "code",
      "source": [
        "# Autoencoder 모델 학습\n",
        "autoencoder = Autoencoder(\n",
        "    input_dim=autoencoder_params['input_dim'],\n",
        "    encoding_dim=autoencoder_params['encoding_dim'],\n",
        "    optimizer=autoencoder_params['optimizer'],\n",
        "    epochs=autoencoder_params['epochs'],\n",
        "    batch_size=autoencoder_params['batch_size']\n",
        ")\n",
        "autoencoder.fit(X_train)"
      ],
      "metadata": {
        "colab": {
          "base_uri": "https://localhost:8080/",
          "height": 74
        },
        "id": "x0RNfSn5CKXj",
        "outputId": "bddaeccf-c878-44a9-f5ef-6b6f697047a6"
      },
      "execution_count": null,
      "outputs": [
        {
          "output_type": "execute_result",
          "data": {
            "text/plain": [
              "Autoencoder(encoding_dim=4, input_dim=7)"
            ],
            "text/html": [
              "<style>#sk-container-id-1 {color: black;background-color: white;}#sk-container-id-1 pre{padding: 0;}#sk-container-id-1 div.sk-toggleable {background-color: white;}#sk-container-id-1 label.sk-toggleable__label {cursor: pointer;display: block;width: 100%;margin-bottom: 0;padding: 0.3em;box-sizing: border-box;text-align: center;}#sk-container-id-1 label.sk-toggleable__label-arrow:before {content: \"▸\";float: left;margin-right: 0.25em;color: #696969;}#sk-container-id-1 label.sk-toggleable__label-arrow:hover:before {color: black;}#sk-container-id-1 div.sk-estimator:hover label.sk-toggleable__label-arrow:before {color: black;}#sk-container-id-1 div.sk-toggleable__content {max-height: 0;max-width: 0;overflow: hidden;text-align: left;background-color: #f0f8ff;}#sk-container-id-1 div.sk-toggleable__content pre {margin: 0.2em;color: black;border-radius: 0.25em;background-color: #f0f8ff;}#sk-container-id-1 input.sk-toggleable__control:checked~div.sk-toggleable__content {max-height: 200px;max-width: 100%;overflow: auto;}#sk-container-id-1 input.sk-toggleable__control:checked~label.sk-toggleable__label-arrow:before {content: \"▾\";}#sk-container-id-1 div.sk-estimator input.sk-toggleable__control:checked~label.sk-toggleable__label {background-color: #d4ebff;}#sk-container-id-1 div.sk-label input.sk-toggleable__control:checked~label.sk-toggleable__label {background-color: #d4ebff;}#sk-container-id-1 input.sk-hidden--visually {border: 0;clip: rect(1px 1px 1px 1px);clip: rect(1px, 1px, 1px, 1px);height: 1px;margin: -1px;overflow: hidden;padding: 0;position: absolute;width: 1px;}#sk-container-id-1 div.sk-estimator {font-family: monospace;background-color: #f0f8ff;border: 1px dotted black;border-radius: 0.25em;box-sizing: border-box;margin-bottom: 0.5em;}#sk-container-id-1 div.sk-estimator:hover {background-color: #d4ebff;}#sk-container-id-1 div.sk-parallel-item::after {content: \"\";width: 100%;border-bottom: 1px solid gray;flex-grow: 1;}#sk-container-id-1 div.sk-label:hover label.sk-toggleable__label {background-color: #d4ebff;}#sk-container-id-1 div.sk-serial::before {content: \"\";position: absolute;border-left: 1px solid gray;box-sizing: border-box;top: 0;bottom: 0;left: 50%;z-index: 0;}#sk-container-id-1 div.sk-serial {display: flex;flex-direction: column;align-items: center;background-color: white;padding-right: 0.2em;padding-left: 0.2em;position: relative;}#sk-container-id-1 div.sk-item {position: relative;z-index: 1;}#sk-container-id-1 div.sk-parallel {display: flex;align-items: stretch;justify-content: center;background-color: white;position: relative;}#sk-container-id-1 div.sk-item::before, #sk-container-id-1 div.sk-parallel-item::before {content: \"\";position: absolute;border-left: 1px solid gray;box-sizing: border-box;top: 0;bottom: 0;left: 50%;z-index: -1;}#sk-container-id-1 div.sk-parallel-item {display: flex;flex-direction: column;z-index: 1;position: relative;background-color: white;}#sk-container-id-1 div.sk-parallel-item:first-child::after {align-self: flex-end;width: 50%;}#sk-container-id-1 div.sk-parallel-item:last-child::after {align-self: flex-start;width: 50%;}#sk-container-id-1 div.sk-parallel-item:only-child::after {width: 0;}#sk-container-id-1 div.sk-dashed-wrapped {border: 1px dashed gray;margin: 0 0.4em 0.5em 0.4em;box-sizing: border-box;padding-bottom: 0.4em;background-color: white;}#sk-container-id-1 div.sk-label label {font-family: monospace;font-weight: bold;display: inline-block;line-height: 1.2em;}#sk-container-id-1 div.sk-label-container {text-align: center;}#sk-container-id-1 div.sk-container {/* jupyter's `normalize.less` sets `[hidden] { display: none; }` but bootstrap.min.css set `[hidden] { display: none !important; }` so we also need the `!important` here to be able to override the default hidden behavior on the sphinx rendered scikit-learn.org. See: https://github.com/scikit-learn/scikit-learn/issues/21755 */display: inline-block !important;position: relative;}#sk-container-id-1 div.sk-text-repr-fallback {display: none;}</style><div id=\"sk-container-id-1\" class=\"sk-top-container\"><div class=\"sk-text-repr-fallback\"><pre>Autoencoder(encoding_dim=4, input_dim=7)</pre><b>In a Jupyter environment, please rerun this cell to show the HTML representation or trust the notebook. <br />On GitHub, the HTML representation is unable to render, please try loading this page with nbviewer.org.</b></div><div class=\"sk-container\" hidden><div class=\"sk-item\"><div class=\"sk-estimator sk-toggleable\"><input class=\"sk-toggleable__control sk-hidden--visually\" id=\"sk-estimator-id-1\" type=\"checkbox\" checked><label for=\"sk-estimator-id-1\" class=\"sk-toggleable__label sk-toggleable__label-arrow\">Autoencoder</label><div class=\"sk-toggleable__content\"><pre>Autoencoder(encoding_dim=4, input_dim=7)</pre></div></div></div></div></div>"
            ]
          },
          "metadata": {},
          "execution_count": 13
        }
      ]
    },
    {
      "cell_type": "code",
      "source": [
        "# Autoencoder를 사용하여 특징 추출\n",
        "encoded_X_train = autoencoder.transform(X_train)\n",
        "encoded_X_test = autoencoder.transform(X_test)"
      ],
      "metadata": {
        "colab": {
          "base_uri": "https://localhost:8080/"
        },
        "id": "RZG_rkWECLKE",
        "outputId": "6a373b73-513f-43ef-ccf7-a631c6b17b85"
      },
      "execution_count": null,
      "outputs": [
        {
          "output_type": "stream",
          "name": "stdout",
          "text": [
            "25000/25000 [==============================] - 20s 788us/step\n",
            "25000/25000 [==============================] - 24s 942us/step\n",
            "6250/6250 [==============================] - 6s 902us/step\n",
            "6250/6250 [==============================] - 5s 810us/step\n"
          ]
        }
      ]
    },
    {
      "cell_type": "code",
      "source": [
        "encoded_X_train"
      ],
      "metadata": {
        "colab": {
          "base_uri": "https://localhost:8080/"
        },
        "id": "sCUArJbIQOl9",
        "outputId": "8565ab04-67ba-49ad-dd11-b43a534a2962"
      },
      "execution_count": null,
      "outputs": [
        {
          "output_type": "execute_result",
          "data": {
            "text/plain": [
              "array([[4.3107057e-03, 1.0592120e-03, 1.0000000e+00, ..., 1.0000000e+00,\n",
              "        6.4460311e-22, 9.6615619e-04],\n",
              "       [3.2038938e-02, 1.1891702e-03, 1.7715978e-03, ..., 2.2273594e-09,\n",
              "        9.9994677e-01, 9.3237730e-05],\n",
              "       [9.8170346e-01, 1.0000000e+00, 1.0000000e+00, ..., 9.9999791e-01,\n",
              "        1.4852586e-13, 9.8716861e-01],\n",
              "       ...,\n",
              "       [1.8836108e-04, 3.0484869e-05, 3.8991042e-05, ..., 5.1368470e-04,\n",
              "        6.8655681e-05, 2.8189606e-05],\n",
              "       [1.7769821e-04, 3.1286712e-05, 4.3189852e-05, ..., 5.2974169e-04,\n",
              "        6.5935848e-05, 2.8575874e-05],\n",
              "       [1.9078625e-04, 3.0325424e-05, 3.9181439e-05, ..., 5.1144749e-04,\n",
              "        6.9362453e-05, 2.8154303e-05]], dtype=float32)"
            ]
          },
          "metadata": {},
          "execution_count": 15
        }
      ]
    },
    {
      "cell_type": "markdown",
      "source": [
        "# **RandomForest 드가자**"
      ],
      "metadata": {
        "id": "mNHC4IGOjBaC"
      }
    },
    {
      "cell_type": "code",
      "source": [
        "from sklearn.ensemble import RandomForestClassifier\n",
        "\n",
        "rfc = RandomForestClassifier(max_depth=5,n_estimators=50)"
      ],
      "metadata": {
        "id": "-bON1J1ch1qE"
      },
      "execution_count": null,
      "outputs": []
    },
    {
      "cell_type": "code",
      "source": [
        "rfc.fit(encoded_X_train, y_train)\n",
        "y_pred = rfc.predict(encoded_X_test)"
      ],
      "metadata": {
        "id": "d-biY6q2jJad"
      },
      "execution_count": null,
      "outputs": []
    },
    {
      "cell_type": "code",
      "source": [
        "import seaborn\n",
        "cm = confusion_matrix(y_test, y_pred)\n",
        "cm_matrix = pd.DataFrame(data=cm, columns=['Benign', 'Dos', 'Fuzzy','Rpm'],\n",
        "                                 index=['Benign', 'Dos', 'Fuzzy','Rpm'])\n",
        "\n",
        "seaborn.heatmap(cm_matrix, annot=True, fmt='d', cmap='YlGnBu')"
      ],
      "metadata": {
        "id": "QHLXAOVejYPI",
        "colab": {
          "base_uri": "https://localhost:8080/",
          "height": 453
        },
        "outputId": "942770db-824a-4cbc-9430-490f31d7ea50"
      },
      "execution_count": null,
      "outputs": [
        {
          "output_type": "execute_result",
          "data": {
            "text/plain": [
              "<Axes: >"
            ]
          },
          "metadata": {},
          "execution_count": 18
        },
        {
          "output_type": "display_data",
          "data": {
            "text/plain": [
              "<Figure size 640x480 with 2 Axes>"
            ],
            "image/png": "[encoded data removed]"
          },
          "metadata": {}
        }
      ]
    },
    {
      "cell_type": "code",
      "source": [
        "#evaluation for RF\n",
        "\n",
        "\n",
        "print(\"Accuracy:\",metrics.accuracy_score(y_test, y_pred))\n",
        "print(\"Precision:\",metrics.precision_score(y_test, y_pred, average='macro'))\n",
        "print(\"Recall:\",metrics.recall_score(y_test, y_pred, average='macro'))\n",
        "print(\"F1_Score:\",metrics.f1_score(y_test, y_pred, average='macro'))\n",
        "print(\"Cohen_Kappa_Score:\",sklearn.metrics.cohen_kappa_score(y_test, y_pred, labels=None, weights=None, sample_weight=None))\n",
        "#print(\"MSE:\",metrics.mean_squared_error(Y_Test,Y_Pred_svm))"
      ],
      "metadata": {
        "colab": {
          "base_uri": "https://localhost:8080/"
        },
        "id": "LKdBD2xNag6D",
        "outputId": "28bc56ec-6b7a-4853-86d8-533cab1c66ee"
      },
      "execution_count": null,
      "outputs": [
        {
          "output_type": "stream",
          "name": "stdout",
          "text": [
            "Accuracy: 0.97665\n",
            "Precision: 0.977267985359461\n",
            "Recall: 0.97665\n",
            "F1_Score: 0.976642610653152\n",
            "Cohen_Kappa_Score: 0.9688666666666667\n"
          ]
        }
      ]
    },
    {
      "cell_type": "code",
      "source": [
        "# Individual Clasification- RF\n",
        "\n",
        "print(classification_report(y_test, y_pred))"
      ],
      "metadata": {
        "colab": {
          "base_uri": "https://localhost:8080/"
        },
        "id": "6-8nWV2MaiwL",
        "outputId": "05b0378a-e726-4ccb-f4e6-1ec95c919087"
      },
      "execution_count": null,
      "outputs": [
        {
          "output_type": "stream",
          "name": "stdout",
          "text": [
            "              precision    recall  f1-score   support\n",
            "\n",
            "           0       0.94      0.97      0.95     50000\n",
            "           1       0.97      1.00      0.98     50000\n",
            "           2       1.00      0.94      0.97     50000\n",
            "           3       1.00      1.00      1.00     50000\n",
            "\n",
            "    accuracy                           0.98    200000\n",
            "   macro avg       0.98      0.98      0.98    200000\n",
            "weighted avg       0.98      0.98      0.98    200000\n",
            "\n"
          ]
        }
      ]
    }
  ],
  "metadata": {
    "colab": {
      "provenance": [],
      "authorship_tag": "ABX9TyMHfNWyF7FYRJm/LV3x4Yjz",
      "include_colab_link": true
    },
    "kernelspec": {
      "display_name": "Python 3",
      "name": "python3"
    },
    "language_info": {
      "name": "python"
    }
  },
  "nbformat": 4,
  "nbformat_minor": 0
}